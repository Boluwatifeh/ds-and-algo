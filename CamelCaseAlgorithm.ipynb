{
 "cells": [
  {
   "cell_type": "code",
   "execution_count": 51,
   "id": "eb9eddb1",
   "metadata": {},
   "outputs": [],
   "source": [
    "sentence = 'may the force be with you'"
   ]
  },
  {
   "cell_type": "code",
   "execution_count": 46,
   "id": "a72d3c73",
   "metadata": {},
   "outputs": [
    {
     "ename": "SyntaxError",
     "evalue": "invalid syntax (<ipython-input-46-b51771d35092>, line 1)",
     "output_type": "error",
     "traceback": [
      "\u001b[0;36m  File \u001b[0;32m\"<ipython-input-46-b51771d35092>\"\u001b[0;36m, line \u001b[0;32m1\u001b[0m\n\u001b[0;31m    may the force be with you\u001b[0m\n\u001b[0m        ^\u001b[0m\n\u001b[0;31mSyntaxError\u001b[0m\u001b[0;31m:\u001b[0m invalid syntax\n"
     ]
    }
   ],
   "source": [
    "may the force be with you\n",
    "012345678"
   ]
  },
  {
   "cell_type": "code",
   "execution_count": 60,
   "id": "6d89df24",
   "metadata": {},
   "outputs": [],
   "source": [
    "# PROBLEM/TASK: GIVEN A SENTENCE, TASK IS TO REMOVE SPACES FROM THE SENTENCE AND REWRITE IN CAMELCASE\n",
    "# CAMEL CASE IS A STYLE OF WRITING WHERE WE DON'T HAVE SPACES AND THE ALL WORDS BEGIN WITH A CAPITAL \n",
    "# LETTER \n",
    "\n",
    "def convert(sentence):\n",
    "    '''Sentence: The string to be converted\n",
    "       \n",
    "       Return:: camel_case: \n",
    "    \n",
    "    '''\n",
    "    # check if the sentence is empty or not\n",
    "    if len(sentence) == 0:\n",
    "        return \"Empty stirng, input a value\"\n",
    "    \n",
    "    # create a variable to hold the result\n",
    "    camel_case = ''\n",
    "    \n",
    "    # pick and switch the first element to uppercase\n",
    "    camel_case += sentence[0].upper()\n",
    "    # traverse through the remaining elements from the sentence, whenever we encounter a space, ignore the space and change the next letter to capital\n",
    "    for i in range(1, len(sentence)):\n",
    "        if sentence[i] == ' ':\n",
    "            camel_case += sentence[i+1].upper()\n",
    "    \n",
    "    # if we don't encounter a space, copy the character/element to result\n",
    "        elif sentence[i-1] != ' ':\n",
    "            camel_case += sentence[i]\n",
    "    # print the result\n",
    "    print(camel_case)"
   ]
  },
  {
   "cell_type": "code",
   "execution_count": 61,
   "id": "7b9e8a4c",
   "metadata": {},
   "outputs": [
    {
     "name": "stdout",
     "output_type": "stream",
     "text": [
      "MayTheForceBeWithYou\n",
      "CPU times: user 504 µs, sys: 71 µs, total: 575 µs\n",
      "Wall time: 392 µs\n"
     ]
    }
   ],
   "source": [
    "%%time\n",
    "convert(sentence)"
   ]
  },
  {
   "cell_type": "code",
   "execution_count": 87,
   "id": "6ff9248c",
   "metadata": {},
   "outputs": [
    {
     "name": "stdout",
     "output_type": "stream",
     "text": [
      "{'input': 'may the force be with you', 'output': 'MayTheForceBeWithYou'}\n"
     ]
    }
   ],
   "source": [
    "print(test0)"
   ]
  },
  {
   "cell_type": "code",
   "execution_count": 97,
   "id": "8204cc81",
   "metadata": {},
   "outputs": [],
   "source": [
    "class Solution:\n",
    "    def __init__(self, sentence):\n",
    "        self.sentence = sentence\n",
    "    def __repr__(self):\n",
    "        return \"sentence: %s \" % self.sentence\n",
    "    def convert(self):\n",
    "        if len(self.sentence) == 0:\n",
    "            return \"Empty string\"\n",
    "        camel_case = \" \"\n",
    "        camel_case += self.sentence[0].upper()\n",
    "        for i in range(1, len(self.sentence)):\n",
    "            if self.sentence[i] == \" \":\n",
    "                camel_case += self.sentence[i+1].upper()\n",
    "            elif self.sentence[i-1] != \" \":\n",
    "                camel_case += self.sentence[i]\n",
    "        print(camel_case)"
   ]
  },
  {
   "cell_type": "code",
   "execution_count": 98,
   "id": "86ad916e",
   "metadata": {},
   "outputs": [],
   "source": [
    "test = Solution('may the force be with you')"
   ]
  },
  {
   "cell_type": "code",
   "execution_count": 100,
   "id": "de8ea8db",
   "metadata": {},
   "outputs": [
    {
     "name": "stdout",
     "output_type": "stream",
     "text": [
      " MayTheForceBeWithYou\n"
     ]
    }
   ],
   "source": [
    "test.convert()"
   ]
  },
  {
   "cell_type": "code",
   "execution_count": null,
   "id": "868e95dd",
   "metadata": {},
   "outputs": [],
   "source": []
  }
 ],
 "metadata": {
  "kernelspec": {
   "display_name": "Python 3",
   "language": "python",
   "name": "python3"
  },
  "language_info": {
   "codemirror_mode": {
    "name": "ipython",
    "version": 3
   },
   "file_extension": ".py",
   "mimetype": "text/x-python",
   "name": "python",
   "nbconvert_exporter": "python",
   "pygments_lexer": "ipython3",
   "version": "3.8.8"
  }
 },
 "nbformat": 4,
 "nbformat_minor": 5
}
