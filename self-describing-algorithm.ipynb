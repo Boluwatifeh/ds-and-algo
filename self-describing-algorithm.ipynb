{
 "cells": [
  {
   "cell_type": "code",
   "execution_count": 1,
   "id": "d539c85f",
   "metadata": {},
   "outputs": [],
   "source": [
    "def is_self_describing(num):\n",
    "    string = str(num)\n",
    "    for i in range(len(string)):\n",
    "        base_number = int(string[i])\n",
    "        count = 0\n",
    "        \n",
    "        for j in range(len(string)):\n",
    "            temp = int(string[j])\n",
    "            if temp == i:\n",
    "                count += 1\n",
    "        if count != base_number:\n",
    "            return False\n",
    "    return True"
   ]
  },
  {
   "cell_type": "code",
   "execution_count": 2,
   "id": "2129252f",
   "metadata": {},
   "outputs": [
    {
     "data": {
      "text/plain": [
       "True"
      ]
     },
     "execution_count": 2,
     "metadata": {},
     "output_type": "execute_result"
    }
   ],
   "source": [
    "is_self_describing(2020)"
   ]
  },
  {
   "cell_type": "code",
   "execution_count": 3,
   "id": "6b203739",
   "metadata": {},
   "outputs": [],
   "source": [
    "numm = 123456789"
   ]
  },
  {
   "cell_type": "code",
   "execution_count": null,
   "id": "a05b36b9",
   "metadata": {},
   "outputs": [],
   "source": []
  },
  {
   "cell_type": "code",
   "execution_count": null,
   "id": "089acc38",
   "metadata": {},
   "outputs": [],
   "source": []
  }
 ],
 "metadata": {
  "kernelspec": {
   "display_name": "Python 3",
   "language": "python",
   "name": "python3"
  },
  "language_info": {
   "codemirror_mode": {
    "name": "ipython",
    "version": 3
   },
   "file_extension": ".py",
   "mimetype": "text/x-python",
   "name": "python",
   "nbconvert_exporter": "python",
   "pygments_lexer": "ipython3",
   "version": "3.8.8"
  }
 },
 "nbformat": 4,
 "nbformat_minor": 5
}
